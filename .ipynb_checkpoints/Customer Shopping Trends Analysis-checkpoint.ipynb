{
 "cells": [
  {
   "cell_type": "markdown",
   "id": "080d61dc",
   "metadata": {},
   "source": [
    "# Customer Shopping Trends Analysis\n",
    "#### Author: Josh Houlding\n",
    "#### Date Started: November 16th, 2023\n",
    "#### Date Finished: November 27th, 2023 "
   ]
  },
  {
   "cell_type": "markdown",
   "id": "578f1d99",
   "metadata": {},
   "source": [
    "![Customers holding bags](https://specials-images.forbesimg.com/dam/imageserve/525001696/960x0.jpg?fit=scale)"
   ]
  },
  {
   "cell_type": "markdown",
   "id": "96b63ef7",
   "metadata": {},
   "source": [
    "## Background\n",
    "Analyzing consumer purchase data provides businesses with invaluable insights to enhance profits. Understanding customer preferences allows for targeted marketing and personalized offerings, leading to increased engagement and loyalty. Optimizing inventory management based on purchase trends improves operational efficiency and reduces costs. Effective pricing strategies, informed by data, maximize revenue while maintaining customer satisfaction. Enhanced customer experiences, strategic decision-making, and proactive fraud detection contribute to long-term profitability and a competitive advantage. Overall, leveraging consumer purchase data enables businesses to align strategies with market demands, fostering success and sustainable growth."
   ]
  },
  {
   "cell_type": "markdown",
   "id": "ecea8870",
   "metadata": {},
   "source": [
    "## Objective\n",
    "To understand customer shopping patterns for the purposes of aligning advertising and stocking procedures to better serve customer needs and preferences. "
   ]
  },
  {
   "cell_type": "markdown",
   "id": "8db4b4df",
   "metadata": {},
   "source": [
    "## Data Source\n",
    "* <b>Dataset:</b> [Customer Shopping Trends Dataset](https://www.kaggle.com/datasets/iamsouravbanerjee/customer-shopping-trends-dataset)\n",
    "* <b>Author:</b> Sourav Banerjee\n",
    "* <b>Last updated:</b> October 4th, 2023\n",
    "\n",
    "### Limitations\n",
    "* This dataset was generated with ChatGPT, so it is not representative of real customer purchase data. However, I thought it would still be fun to dive in and practice my data cleaning and EDA skills on it. "
   ]
  },
  {
   "cell_type": "markdown",
   "id": "d6466b26",
   "metadata": {},
   "source": [
    "## Processing and Cleaning the Data"
   ]
  },
  {
   "cell_type": "code",
   "execution_count": 1,
   "id": "943fc9da",
   "metadata": {},
   "outputs": [
    {
     "data": {
      "text/html": [
       "<div>\n",
       "<style scoped>\n",
       "    .dataframe tbody tr th:only-of-type {\n",
       "        vertical-align: middle;\n",
       "    }\n",
       "\n",
       "    .dataframe tbody tr th {\n",
       "        vertical-align: top;\n",
       "    }\n",
       "\n",
       "    .dataframe thead th {\n",
       "        text-align: right;\n",
       "    }\n",
       "</style>\n",
       "<table border=\"1\" class=\"dataframe\">\n",
       "  <thead>\n",
       "    <tr style=\"text-align: right;\">\n",
       "      <th></th>\n",
       "      <th>Customer ID</th>\n",
       "      <th>Age</th>\n",
       "      <th>Gender</th>\n",
       "      <th>Item Purchased</th>\n",
       "      <th>Category</th>\n",
       "      <th>Purchase Amount (USD)</th>\n",
       "      <th>Location</th>\n",
       "      <th>Size</th>\n",
       "      <th>Color</th>\n",
       "      <th>Season</th>\n",
       "      <th>Review Rating</th>\n",
       "      <th>Subscription Status</th>\n",
       "      <th>Shipping Type</th>\n",
       "      <th>Discount Applied</th>\n",
       "      <th>Promo Code Used</th>\n",
       "      <th>Previous Purchases</th>\n",
       "      <th>Payment Method</th>\n",
       "      <th>Frequency of Purchases</th>\n",
       "    </tr>\n",
       "  </thead>\n",
       "  <tbody>\n",
       "    <tr>\n",
       "      <th>0</th>\n",
       "      <td>1</td>\n",
       "      <td>55</td>\n",
       "      <td>Male</td>\n",
       "      <td>Blouse</td>\n",
       "      <td>Clothing</td>\n",
       "      <td>53</td>\n",
       "      <td>Kentucky</td>\n",
       "      <td>L</td>\n",
       "      <td>Gray</td>\n",
       "      <td>Winter</td>\n",
       "      <td>3.1</td>\n",
       "      <td>Yes</td>\n",
       "      <td>Express</td>\n",
       "      <td>Yes</td>\n",
       "      <td>Yes</td>\n",
       "      <td>14</td>\n",
       "      <td>Venmo</td>\n",
       "      <td>Fortnightly</td>\n",
       "    </tr>\n",
       "    <tr>\n",
       "      <th>1</th>\n",
       "      <td>2</td>\n",
       "      <td>19</td>\n",
       "      <td>Male</td>\n",
       "      <td>Sweater</td>\n",
       "      <td>Clothing</td>\n",
       "      <td>64</td>\n",
       "      <td>Maine</td>\n",
       "      <td>L</td>\n",
       "      <td>Maroon</td>\n",
       "      <td>Winter</td>\n",
       "      <td>3.1</td>\n",
       "      <td>Yes</td>\n",
       "      <td>Express</td>\n",
       "      <td>Yes</td>\n",
       "      <td>Yes</td>\n",
       "      <td>2</td>\n",
       "      <td>Cash</td>\n",
       "      <td>Fortnightly</td>\n",
       "    </tr>\n",
       "    <tr>\n",
       "      <th>2</th>\n",
       "      <td>3</td>\n",
       "      <td>50</td>\n",
       "      <td>Male</td>\n",
       "      <td>Jeans</td>\n",
       "      <td>Clothing</td>\n",
       "      <td>73</td>\n",
       "      <td>Massachusetts</td>\n",
       "      <td>S</td>\n",
       "      <td>Maroon</td>\n",
       "      <td>Spring</td>\n",
       "      <td>3.1</td>\n",
       "      <td>Yes</td>\n",
       "      <td>Free Shipping</td>\n",
       "      <td>Yes</td>\n",
       "      <td>Yes</td>\n",
       "      <td>23</td>\n",
       "      <td>Credit Card</td>\n",
       "      <td>Weekly</td>\n",
       "    </tr>\n",
       "    <tr>\n",
       "      <th>3</th>\n",
       "      <td>4</td>\n",
       "      <td>21</td>\n",
       "      <td>Male</td>\n",
       "      <td>Sandals</td>\n",
       "      <td>Footwear</td>\n",
       "      <td>90</td>\n",
       "      <td>Rhode Island</td>\n",
       "      <td>M</td>\n",
       "      <td>Maroon</td>\n",
       "      <td>Spring</td>\n",
       "      <td>3.5</td>\n",
       "      <td>Yes</td>\n",
       "      <td>Next Day Air</td>\n",
       "      <td>Yes</td>\n",
       "      <td>Yes</td>\n",
       "      <td>49</td>\n",
       "      <td>PayPal</td>\n",
       "      <td>Weekly</td>\n",
       "    </tr>\n",
       "    <tr>\n",
       "      <th>4</th>\n",
       "      <td>5</td>\n",
       "      <td>45</td>\n",
       "      <td>Male</td>\n",
       "      <td>Blouse</td>\n",
       "      <td>Clothing</td>\n",
       "      <td>49</td>\n",
       "      <td>Oregon</td>\n",
       "      <td>M</td>\n",
       "      <td>Turquoise</td>\n",
       "      <td>Spring</td>\n",
       "      <td>2.7</td>\n",
       "      <td>Yes</td>\n",
       "      <td>Free Shipping</td>\n",
       "      <td>Yes</td>\n",
       "      <td>Yes</td>\n",
       "      <td>31</td>\n",
       "      <td>PayPal</td>\n",
       "      <td>Annually</td>\n",
       "    </tr>\n",
       "  </tbody>\n",
       "</table>\n",
       "</div>"
      ],
      "text/plain": [
       "   Customer ID  Age Gender Item Purchased  Category  Purchase Amount (USD)  \\\n",
       "0            1   55   Male         Blouse  Clothing                     53   \n",
       "1            2   19   Male        Sweater  Clothing                     64   \n",
       "2            3   50   Male          Jeans  Clothing                     73   \n",
       "3            4   21   Male        Sandals  Footwear                     90   \n",
       "4            5   45   Male         Blouse  Clothing                     49   \n",
       "\n",
       "        Location Size      Color  Season  Review Rating Subscription Status  \\\n",
       "0       Kentucky    L       Gray  Winter            3.1                 Yes   \n",
       "1          Maine    L     Maroon  Winter            3.1                 Yes   \n",
       "2  Massachusetts    S     Maroon  Spring            3.1                 Yes   \n",
       "3   Rhode Island    M     Maroon  Spring            3.5                 Yes   \n",
       "4         Oregon    M  Turquoise  Spring            2.7                 Yes   \n",
       "\n",
       "   Shipping Type Discount Applied Promo Code Used  Previous Purchases  \\\n",
       "0        Express              Yes             Yes                  14   \n",
       "1        Express              Yes             Yes                   2   \n",
       "2  Free Shipping              Yes             Yes                  23   \n",
       "3   Next Day Air              Yes             Yes                  49   \n",
       "4  Free Shipping              Yes             Yes                  31   \n",
       "\n",
       "  Payment Method Frequency of Purchases  \n",
       "0          Venmo            Fortnightly  \n",
       "1           Cash            Fortnightly  \n",
       "2    Credit Card                 Weekly  \n",
       "3         PayPal                 Weekly  \n",
       "4         PayPal               Annually  "
      ]
     },
     "execution_count": 1,
     "metadata": {},
     "output_type": "execute_result"
    }
   ],
   "source": [
    "# Import needed libraries\n",
    "import pandas as pd\n",
    "import numpy as np \n",
    "import seaborn as sns\n",
    "\n",
    "# Load the dataset\n",
    "df = pd.read_csv(\"shopping_trends_updated.csv\")\n",
    "\n",
    "# Get an idea of the dataset's structure\n",
    "df.head()"
   ]
  },
  {
   "cell_type": "markdown",
   "id": "6dd36b74",
   "metadata": {},
   "source": [
    "#### Renaming columns\n",
    "* Rename column \"Purchase Amount (USD)\" to \"Price\"\n",
    "* Rename column \"Subscription Status\" to \"Subscribed?\" \n",
    "* Rename column \"Discount Applied\" to \"Discount?\" \n",
    "* Rename column \"Promo Code Used\" to \"Promo Code Used?\" "
   ]
  },
  {
   "cell_type": "code",
   "execution_count": 2,
   "id": "321fb1e1",
   "metadata": {},
   "outputs": [
    {
     "data": {
      "text/html": [
       "<div>\n",
       "<style scoped>\n",
       "    .dataframe tbody tr th:only-of-type {\n",
       "        vertical-align: middle;\n",
       "    }\n",
       "\n",
       "    .dataframe tbody tr th {\n",
       "        vertical-align: top;\n",
       "    }\n",
       "\n",
       "    .dataframe thead th {\n",
       "        text-align: right;\n",
       "    }\n",
       "</style>\n",
       "<table border=\"1\" class=\"dataframe\">\n",
       "  <thead>\n",
       "    <tr style=\"text-align: right;\">\n",
       "      <th></th>\n",
       "      <th>Customer ID</th>\n",
       "      <th>Age</th>\n",
       "      <th>Gender</th>\n",
       "      <th>Item Purchased</th>\n",
       "      <th>Category</th>\n",
       "      <th>Price</th>\n",
       "      <th>Location</th>\n",
       "      <th>Size</th>\n",
       "      <th>Color</th>\n",
       "      <th>Season</th>\n",
       "      <th>Review Rating</th>\n",
       "      <th>Subscribed?</th>\n",
       "      <th>Shipping Type</th>\n",
       "      <th>Discount?</th>\n",
       "      <th>Promo Code Used?</th>\n",
       "      <th>Previous Purchases</th>\n",
       "      <th>Payment Method</th>\n",
       "      <th>Purchase Frequency</th>\n",
       "    </tr>\n",
       "  </thead>\n",
       "  <tbody>\n",
       "    <tr>\n",
       "      <th>0</th>\n",
       "      <td>1</td>\n",
       "      <td>55</td>\n",
       "      <td>Male</td>\n",
       "      <td>Blouse</td>\n",
       "      <td>Clothing</td>\n",
       "      <td>53</td>\n",
       "      <td>Kentucky</td>\n",
       "      <td>L</td>\n",
       "      <td>Gray</td>\n",
       "      <td>Winter</td>\n",
       "      <td>3.1</td>\n",
       "      <td>Yes</td>\n",
       "      <td>Express</td>\n",
       "      <td>Yes</td>\n",
       "      <td>Yes</td>\n",
       "      <td>14</td>\n",
       "      <td>Venmo</td>\n",
       "      <td>Fortnightly</td>\n",
       "    </tr>\n",
       "  </tbody>\n",
       "</table>\n",
       "</div>"
      ],
      "text/plain": [
       "   Customer ID  Age Gender Item Purchased  Category  Price  Location Size  \\\n",
       "0            1   55   Male         Blouse  Clothing     53  Kentucky    L   \n",
       "\n",
       "  Color  Season  Review Rating Subscribed? Shipping Type Discount?  \\\n",
       "0  Gray  Winter            3.1         Yes       Express       Yes   \n",
       "\n",
       "  Promo Code Used?  Previous Purchases Payment Method Purchase Frequency  \n",
       "0              Yes                  14          Venmo        Fortnightly  "
      ]
     },
     "execution_count": 2,
     "metadata": {},
     "output_type": "execute_result"
    }
   ],
   "source": [
    "# Rename columns for clarity and simplicity\n",
    "df = df.rename(columns={\"Purchase Amount (USD)\": \"Price\", \"Subscription Status\": \"Subscribed?\", \"Discount Applied\": \"Discount?\", \n",
    "                  \"Promo Code Used\": \"Promo Code Used?\", \"Frequency of Purchases\": \"Purchase Frequency\"})\n",
    "df.head(1)"
   ]
  },
  {
   "cell_type": "markdown",
   "id": "a4a410f9",
   "metadata": {},
   "source": [
    "### A basic exploration of the dataset"
   ]
  },
  {
   "cell_type": "code",
   "execution_count": 3,
   "id": "0410126d",
   "metadata": {},
   "outputs": [
    {
     "name": "stdout",
     "output_type": "stream",
     "text": [
      "<class 'pandas.core.frame.DataFrame'>\n",
      "RangeIndex: 3900 entries, 0 to 3899\n",
      "Data columns (total 18 columns):\n",
      " #   Column              Non-Null Count  Dtype  \n",
      "---  ------              --------------  -----  \n",
      " 0   Customer ID         3900 non-null   int64  \n",
      " 1   Age                 3900 non-null   int64  \n",
      " 2   Gender              3900 non-null   object \n",
      " 3   Item Purchased      3900 non-null   object \n",
      " 4   Category            3900 non-null   object \n",
      " 5   Price               3900 non-null   int64  \n",
      " 6   Location            3900 non-null   object \n",
      " 7   Size                3900 non-null   object \n",
      " 8   Color               3900 non-null   object \n",
      " 9   Season              3900 non-null   object \n",
      " 10  Review Rating       3900 non-null   float64\n",
      " 11  Subscribed?         3900 non-null   object \n",
      " 12  Shipping Type       3900 non-null   object \n",
      " 13  Discount?           3900 non-null   object \n",
      " 14  Promo Code Used?    3900 non-null   object \n",
      " 15  Previous Purchases  3900 non-null   int64  \n",
      " 16  Payment Method      3900 non-null   object \n",
      " 17  Purchase Frequency  3900 non-null   object \n",
      "dtypes: float64(1), int64(4), object(13)\n",
      "memory usage: 548.6+ KB\n"
     ]
    }
   ],
   "source": [
    "# View datatypes of columns\n",
    "df.info()"
   ]
  },
  {
   "cell_type": "code",
   "execution_count": 4,
   "id": "2407cdd5",
   "metadata": {},
   "outputs": [
    {
     "data": {
      "text/plain": [
       "3900"
      ]
     },
     "execution_count": 4,
     "metadata": {},
     "output_type": "execute_result"
    }
   ],
   "source": [
    "# How many purchase records are there? \n",
    "df.shape[0]"
   ]
  },
  {
   "cell_type": "code",
   "execution_count": 5,
   "id": "f6e09f50",
   "metadata": {},
   "outputs": [
    {
     "data": {
      "text/plain": [
       "25"
      ]
     },
     "execution_count": 5,
     "metadata": {},
     "output_type": "execute_result"
    }
   ],
   "source": [
    "# How many types of items did customers purchase? \n",
    "len(df[\"Item Purchased\"].value_counts())"
   ]
  },
  {
   "cell_type": "code",
   "execution_count": 6,
   "id": "55cb37c7",
   "metadata": {},
   "outputs": [
    {
     "data": {
      "text/plain": [
       "50"
      ]
     },
     "execution_count": 6,
     "metadata": {},
     "output_type": "execute_result"
    }
   ],
   "source": [
    "# How many states did customers purchase from? \n",
    "len(df[\"Location\"].unique())"
   ]
  },
  {
   "cell_type": "markdown",
   "id": "4e784b2d",
   "metadata": {},
   "source": [
    "### Seeing if any text values need to be renamed"
   ]
  },
  {
   "cell_type": "code",
   "execution_count": 7,
   "id": "bccc7560",
   "metadata": {},
   "outputs": [
    {
     "data": {
      "text/plain": [
       "array(['Male', 'Female'], dtype=object)"
      ]
     },
     "execution_count": 7,
     "metadata": {},
     "output_type": "execute_result"
    }
   ],
   "source": [
    "# Examine unique \"Gender\" values\n",
    "df[\"Gender\"].unique()"
   ]
  },
  {
   "cell_type": "code",
   "execution_count": 8,
   "id": "2e0c34bf",
   "metadata": {},
   "outputs": [
    {
     "data": {
      "text/plain": [
       "array(['Blouse', 'Sweater', 'Jeans', 'Sandals', 'Sneakers', 'Shirt',\n",
       "       'Shorts', 'Coat', 'Handbag', 'Shoes', 'Dress', 'Skirt',\n",
       "       'Sunglasses', 'Pants', 'Jacket', 'Hoodie', 'Jewelry', 'T-shirt',\n",
       "       'Scarf', 'Hat', 'Socks', 'Backpack', 'Belt', 'Boots', 'Gloves'],\n",
       "      dtype=object)"
      ]
     },
     "execution_count": 8,
     "metadata": {},
     "output_type": "execute_result"
    }
   ],
   "source": [
    "# Examine unique \"Item Purchased\" values\n",
    "df[\"Item Purchased\"].unique()"
   ]
  },
  {
   "cell_type": "code",
   "execution_count": 9,
   "id": "d0df0b7a",
   "metadata": {},
   "outputs": [
    {
     "data": {
      "text/plain": [
       "array(['Clothing', 'Footwear', 'Outerwear', 'Accessories'], dtype=object)"
      ]
     },
     "execution_count": 9,
     "metadata": {},
     "output_type": "execute_result"
    }
   ],
   "source": [
    "# Examine unique \"Category\" values\n",
    "df[\"Category\"].unique()"
   ]
  },
  {
   "cell_type": "code",
   "execution_count": 10,
   "id": "d5965813",
   "metadata": {},
   "outputs": [
    {
     "data": {
      "text/plain": [
       "array(['Kentucky', 'Maine', 'Massachusetts', 'Rhode Island', 'Oregon',\n",
       "       'Wyoming', 'Montana', 'Louisiana', 'West Virginia', 'Missouri',\n",
       "       'Arkansas', 'Hawaii', 'Delaware', 'New Hampshire', 'New York',\n",
       "       'Alabama', 'Mississippi', 'North Carolina', 'California',\n",
       "       'Oklahoma', 'Florida', 'Texas', 'Nevada', 'Kansas', 'Colorado',\n",
       "       'North Dakota', 'Illinois', 'Indiana', 'Arizona', 'Alaska',\n",
       "       'Tennessee', 'Ohio', 'New Jersey', 'Maryland', 'Vermont',\n",
       "       'New Mexico', 'South Carolina', 'Idaho', 'Pennsylvania',\n",
       "       'Connecticut', 'Utah', 'Virginia', 'Georgia', 'Nebraska', 'Iowa',\n",
       "       'South Dakota', 'Minnesota', 'Washington', 'Wisconsin', 'Michigan'],\n",
       "      dtype=object)"
      ]
     },
     "execution_count": 10,
     "metadata": {},
     "output_type": "execute_result"
    }
   ],
   "source": [
    "# Examine unique \"Location\" values\n",
    "df[\"Location\"].unique()"
   ]
  },
  {
   "cell_type": "code",
   "execution_count": 11,
   "id": "16d764dd",
   "metadata": {},
   "outputs": [
    {
     "data": {
      "text/plain": [
       "array(['L', 'S', 'M', 'XL'], dtype=object)"
      ]
     },
     "execution_count": 11,
     "metadata": {},
     "output_type": "execute_result"
    }
   ],
   "source": [
    "# Examine unique \"Size\" values\n",
    "df[\"Size\"].unique()"
   ]
  },
  {
   "cell_type": "code",
   "execution_count": 12,
   "id": "828ce6fc",
   "metadata": {},
   "outputs": [
    {
     "data": {
      "text/plain": [
       "array(['Gray', 'Maroon', 'Turquoise', 'White', 'Charcoal', 'Silver',\n",
       "       'Pink', 'Purple', 'Olive', 'Gold', 'Violet', 'Teal', 'Lavender',\n",
       "       'Black', 'Green', 'Peach', 'Red', 'Cyan', 'Brown', 'Beige',\n",
       "       'Orange', 'Indigo', 'Yellow', 'Magenta', 'Blue'], dtype=object)"
      ]
     },
     "execution_count": 12,
     "metadata": {},
     "output_type": "execute_result"
    }
   ],
   "source": [
    "# Examine unique \"Color\" values\n",
    "df[\"Color\"].unique()"
   ]
  },
  {
   "cell_type": "code",
   "execution_count": 13,
   "id": "febb4e47",
   "metadata": {},
   "outputs": [
    {
     "data": {
      "text/plain": [
       "array(['Winter', 'Spring', 'Summer', 'Fall'], dtype=object)"
      ]
     },
     "execution_count": 13,
     "metadata": {},
     "output_type": "execute_result"
    }
   ],
   "source": [
    "# Examine unique \"Season\" values\n",
    "df[\"Season\"].unique()"
   ]
  },
  {
   "cell_type": "code",
   "execution_count": 14,
   "id": "c5ddf990",
   "metadata": {},
   "outputs": [
    {
     "data": {
      "text/plain": [
       "array(['Yes', 'No'], dtype=object)"
      ]
     },
     "execution_count": 14,
     "metadata": {},
     "output_type": "execute_result"
    }
   ],
   "source": [
    "# Examine unique \"Subscribed?\" values\n",
    "df[\"Subscribed?\"].unique()"
   ]
  },
  {
   "cell_type": "code",
   "execution_count": 15,
   "id": "610b8e3c",
   "metadata": {},
   "outputs": [
    {
     "data": {
      "text/plain": [
       "array(['Express', 'Free Shipping', 'Next Day Air', 'Standard',\n",
       "       '2-Day Shipping', 'Store Pickup'], dtype=object)"
      ]
     },
     "execution_count": 15,
     "metadata": {},
     "output_type": "execute_result"
    }
   ],
   "source": [
    "# Examine unique \"Shipping Type\" values\n",
    "df[\"Shipping Type\"].unique()"
   ]
  },
  {
   "cell_type": "code",
   "execution_count": 16,
   "id": "117f3a1a",
   "metadata": {},
   "outputs": [
    {
     "data": {
      "text/plain": [
       "array(['Yes', 'No'], dtype=object)"
      ]
     },
     "execution_count": 16,
     "metadata": {},
     "output_type": "execute_result"
    }
   ],
   "source": [
    "# Examine unique \"Discount?\" values\n",
    "df[\"Discount?\"].unique()"
   ]
  },
  {
   "cell_type": "code",
   "execution_count": 17,
   "id": "ac98eb3a",
   "metadata": {},
   "outputs": [
    {
     "data": {
      "text/plain": [
       "array(['Yes', 'No'], dtype=object)"
      ]
     },
     "execution_count": 17,
     "metadata": {},
     "output_type": "execute_result"
    }
   ],
   "source": [
    "# Examine unique \"Promo Code Used?\" values\n",
    "df[\"Promo Code Used?\"].unique()"
   ]
  },
  {
   "cell_type": "code",
   "execution_count": 18,
   "id": "45afcf9a",
   "metadata": {},
   "outputs": [
    {
     "data": {
      "text/plain": [
       "array(['Venmo', 'Cash', 'Credit Card', 'PayPal', 'Bank Transfer',\n",
       "       'Debit Card'], dtype=object)"
      ]
     },
     "execution_count": 18,
     "metadata": {},
     "output_type": "execute_result"
    }
   ],
   "source": [
    "# Examine unique \"Payment Method\" values\n",
    "df[\"Payment Method\"].unique()"
   ]
  },
  {
   "cell_type": "code",
   "execution_count": 19,
   "id": "d5ad4c71",
   "metadata": {},
   "outputs": [
    {
     "data": {
      "text/plain": [
       "array(['Fortnightly', 'Weekly', 'Annually', 'Quarterly', 'Bi-Weekly',\n",
       "       'Monthly', 'Every 3 Months'], dtype=object)"
      ]
     },
     "execution_count": 19,
     "metadata": {},
     "output_type": "execute_result"
    }
   ],
   "source": [
    "# Examine unique \"Purchase Frequency\" values\n",
    "df[\"Purchase Frequency\"].unique()"
   ]
  },
  {
   "cell_type": "markdown",
   "id": "9dc38556",
   "metadata": {},
   "source": [
    "#### Renaming data values\n",
    "* Rename \"Shipping Type\" value \"Free Shipping\" to \"Free\"\n",
    "* Rename \"Shipping Type\" value \"2-Day Shipping\" to \"2-day\"\n",
    "* Rename \"Frequency of Purchases\" value \"Bi-Weekly\" to \"Biweekly\""
   ]
  },
  {
   "cell_type": "code",
   "execution_count": 20,
   "id": "a5018fec",
   "metadata": {},
   "outputs": [],
   "source": [
    "# Rename \"Shipping Type\" value \"Free Shipping\" to \"Free\" \n",
    "df[\"Shipping Type\"] = np.where(df[\"Shipping Type\"] == \"Free Shipping\", \"Free\", df[\"Shipping Type\"])"
   ]
  },
  {
   "cell_type": "code",
   "execution_count": 21,
   "id": "b66029c0",
   "metadata": {
    "scrolled": true
   },
   "outputs": [
    {
     "data": {
      "text/plain": [
       "array(['Express', 'Free', 'Next Day Air', 'Standard', '2-day',\n",
       "       'Store Pickup'], dtype=object)"
      ]
     },
     "execution_count": 21,
     "metadata": {},
     "output_type": "execute_result"
    }
   ],
   "source": [
    "# Rename \"Shipping Type\" value \"2-Day Shipping\" to \"2-day\"\n",
    "df[\"Shipping Type\"] = np.where(df[\"Shipping Type\"] == \"2-Day Shipping\", \"2-day\", df[\"Shipping Type\"])\n",
    "df[\"Shipping Type\"].unique()"
   ]
  },
  {
   "cell_type": "code",
   "execution_count": 22,
   "id": "68643f20",
   "metadata": {
    "scrolled": true
   },
   "outputs": [
    {
     "data": {
      "text/plain": [
       "array(['Fortnightly', 'Weekly', 'Annually', 'Quarterly', 'Biweekly',\n",
       "       'Monthly', 'Every 3 Months'], dtype=object)"
      ]
     },
     "execution_count": 22,
     "metadata": {},
     "output_type": "execute_result"
    }
   ],
   "source": [
    "# Rename \"Frequency of Purchases\" value \"Bi-Weekly\" to \"Biweekly\"\n",
    "df[\"Purchase Frequency\"] = np.where(df[\"Purchase Frequency\"] == \"Bi-Weekly\", \"Biweekly\", df[\"Purchase Frequency\"])\n",
    "df[\"Purchase Frequency\"].unique()"
   ]
  },
  {
   "cell_type": "code",
   "execution_count": 23,
   "id": "2a31c545",
   "metadata": {},
   "outputs": [
    {
     "data": {
      "text/html": [
       "<div>\n",
       "<style scoped>\n",
       "    .dataframe tbody tr th:only-of-type {\n",
       "        vertical-align: middle;\n",
       "    }\n",
       "\n",
       "    .dataframe tbody tr th {\n",
       "        vertical-align: top;\n",
       "    }\n",
       "\n",
       "    .dataframe thead th {\n",
       "        text-align: right;\n",
       "    }\n",
       "</style>\n",
       "<table border=\"1\" class=\"dataframe\">\n",
       "  <thead>\n",
       "    <tr style=\"text-align: right;\">\n",
       "      <th></th>\n",
       "      <th>Customer ID</th>\n",
       "      <th>Age</th>\n",
       "      <th>Gender</th>\n",
       "      <th>Item Purchased</th>\n",
       "      <th>Category</th>\n",
       "      <th>Price</th>\n",
       "      <th>Location</th>\n",
       "      <th>Size</th>\n",
       "      <th>Color</th>\n",
       "      <th>Season</th>\n",
       "      <th>Review Rating</th>\n",
       "      <th>Subscribed?</th>\n",
       "      <th>Shipping Type</th>\n",
       "      <th>Discount?</th>\n",
       "      <th>Promo Code Used?</th>\n",
       "      <th>Previous Purchases</th>\n",
       "      <th>Payment Method</th>\n",
       "      <th>Purchase Frequency</th>\n",
       "    </tr>\n",
       "  </thead>\n",
       "  <tbody>\n",
       "    <tr>\n",
       "      <th>0</th>\n",
       "      <td>1</td>\n",
       "      <td>55</td>\n",
       "      <td>Male</td>\n",
       "      <td>Blouse</td>\n",
       "      <td>Clothing</td>\n",
       "      <td>53</td>\n",
       "      <td>Kentucky</td>\n",
       "      <td>L</td>\n",
       "      <td>Gray</td>\n",
       "      <td>Winter</td>\n",
       "      <td>3.1</td>\n",
       "      <td>Yes</td>\n",
       "      <td>Express</td>\n",
       "      <td>Yes</td>\n",
       "      <td>Yes</td>\n",
       "      <td>14</td>\n",
       "      <td>Venmo</td>\n",
       "      <td>Fortnightly</td>\n",
       "    </tr>\n",
       "    <tr>\n",
       "      <th>1</th>\n",
       "      <td>2</td>\n",
       "      <td>19</td>\n",
       "      <td>Male</td>\n",
       "      <td>Sweater</td>\n",
       "      <td>Clothing</td>\n",
       "      <td>64</td>\n",
       "      <td>Maine</td>\n",
       "      <td>L</td>\n",
       "      <td>Maroon</td>\n",
       "      <td>Winter</td>\n",
       "      <td>3.1</td>\n",
       "      <td>Yes</td>\n",
       "      <td>Express</td>\n",
       "      <td>Yes</td>\n",
       "      <td>Yes</td>\n",
       "      <td>2</td>\n",
       "      <td>Cash</td>\n",
       "      <td>Fortnightly</td>\n",
       "    </tr>\n",
       "    <tr>\n",
       "      <th>2</th>\n",
       "      <td>3</td>\n",
       "      <td>50</td>\n",
       "      <td>Male</td>\n",
       "      <td>Jeans</td>\n",
       "      <td>Clothing</td>\n",
       "      <td>73</td>\n",
       "      <td>Massachusetts</td>\n",
       "      <td>S</td>\n",
       "      <td>Maroon</td>\n",
       "      <td>Spring</td>\n",
       "      <td>3.1</td>\n",
       "      <td>Yes</td>\n",
       "      <td>Free</td>\n",
       "      <td>Yes</td>\n",
       "      <td>Yes</td>\n",
       "      <td>23</td>\n",
       "      <td>Credit Card</td>\n",
       "      <td>Weekly</td>\n",
       "    </tr>\n",
       "    <tr>\n",
       "      <th>3</th>\n",
       "      <td>4</td>\n",
       "      <td>21</td>\n",
       "      <td>Male</td>\n",
       "      <td>Sandals</td>\n",
       "      <td>Footwear</td>\n",
       "      <td>90</td>\n",
       "      <td>Rhode Island</td>\n",
       "      <td>M</td>\n",
       "      <td>Maroon</td>\n",
       "      <td>Spring</td>\n",
       "      <td>3.5</td>\n",
       "      <td>Yes</td>\n",
       "      <td>Next Day Air</td>\n",
       "      <td>Yes</td>\n",
       "      <td>Yes</td>\n",
       "      <td>49</td>\n",
       "      <td>PayPal</td>\n",
       "      <td>Weekly</td>\n",
       "    </tr>\n",
       "    <tr>\n",
       "      <th>4</th>\n",
       "      <td>5</td>\n",
       "      <td>45</td>\n",
       "      <td>Male</td>\n",
       "      <td>Blouse</td>\n",
       "      <td>Clothing</td>\n",
       "      <td>49</td>\n",
       "      <td>Oregon</td>\n",
       "      <td>M</td>\n",
       "      <td>Turquoise</td>\n",
       "      <td>Spring</td>\n",
       "      <td>2.7</td>\n",
       "      <td>Yes</td>\n",
       "      <td>Free</td>\n",
       "      <td>Yes</td>\n",
       "      <td>Yes</td>\n",
       "      <td>31</td>\n",
       "      <td>PayPal</td>\n",
       "      <td>Annually</td>\n",
       "    </tr>\n",
       "  </tbody>\n",
       "</table>\n",
       "</div>"
      ],
      "text/plain": [
       "   Customer ID  Age Gender Item Purchased  Category  Price       Location  \\\n",
       "0            1   55   Male         Blouse  Clothing     53       Kentucky   \n",
       "1            2   19   Male        Sweater  Clothing     64          Maine   \n",
       "2            3   50   Male          Jeans  Clothing     73  Massachusetts   \n",
       "3            4   21   Male        Sandals  Footwear     90   Rhode Island   \n",
       "4            5   45   Male         Blouse  Clothing     49         Oregon   \n",
       "\n",
       "  Size      Color  Season  Review Rating Subscribed? Shipping Type Discount?  \\\n",
       "0    L       Gray  Winter            3.1         Yes       Express       Yes   \n",
       "1    L     Maroon  Winter            3.1         Yes       Express       Yes   \n",
       "2    S     Maroon  Spring            3.1         Yes          Free       Yes   \n",
       "3    M     Maroon  Spring            3.5         Yes  Next Day Air       Yes   \n",
       "4    M  Turquoise  Spring            2.7         Yes          Free       Yes   \n",
       "\n",
       "  Promo Code Used?  Previous Purchases Payment Method Purchase Frequency  \n",
       "0              Yes                  14          Venmo        Fortnightly  \n",
       "1              Yes                   2           Cash        Fortnightly  \n",
       "2              Yes                  23    Credit Card             Weekly  \n",
       "3              Yes                  49         PayPal             Weekly  \n",
       "4              Yes                  31         PayPal           Annually  "
      ]
     },
     "execution_count": 23,
     "metadata": {},
     "output_type": "execute_result"
    }
   ],
   "source": [
    "df.head()"
   ]
  },
  {
   "cell_type": "markdown",
   "id": "cef81ae9",
   "metadata": {},
   "source": [
    "## Exploring the Data"
   ]
  },
  {
   "cell_type": "markdown",
   "id": "1ffab63e",
   "metadata": {},
   "source": [
    "### What is the age distribution of customers? "
   ]
  },
  {
   "cell_type": "code",
   "execution_count": 24,
   "id": "32937392",
   "metadata": {
    "scrolled": false
   },
   "outputs": [
    {
     "data": {
      "text/plain": [
       "<Axes: xlabel='Age', ylabel='Count'>"
      ]
     },
     "execution_count": 24,
     "metadata": {},
     "output_type": "execute_result"
    },
    {
     "data": {
      "image/png": "[encoded data removed]",
      "text/plain": [
       "<Figure size 640x480 with 1 Axes>"
      ]
     },
     "metadata": {},
     "output_type": "display_data"
    }
   ],
   "source": [
    "# Create histogram of customer ages\n",
    "sns.histplot(df[\"Age\"])"
   ]
  },
  {
   "cell_type": "markdown",
   "id": "91e46c55",
   "metadata": {},
   "source": [
    "We can see that the distribution of ages for customers is nearly uniform, with slightly more customers on the low and high end of age. "
   ]
  },
  {
   "cell_type": "code",
   "execution_count": 25,
   "id": "eed006e6",
   "metadata": {},
   "outputs": [
    {
     "data": {
      "text/plain": [
       "count    3900.000000\n",
       "mean       44.068462\n",
       "std        15.207589\n",
       "min        18.000000\n",
       "25%        31.000000\n",
       "50%        44.000000\n",
       "75%        57.000000\n",
       "max        70.000000\n",
       "Name: Age, dtype: float64"
      ]
     },
     "execution_count": 25,
     "metadata": {},
     "output_type": "execute_result"
    }
   ],
   "source": [
    "# Check customer age stats\n",
    "df[\"Age\"].describe()"
   ]
  },
  {
   "cell_type": "markdown",
   "id": "7691e4f3",
   "metadata": {},
   "source": [
    "The average customer is 44 years old, with the youngest being 18 and the oldest being 70. "
   ]
  },
  {
   "cell_type": "markdown",
   "id": "4b440529",
   "metadata": {},
   "source": [
    "### What is the price distribution of items purchased? "
   ]
  },
  {
   "cell_type": "code",
   "execution_count": 26,
   "id": "12fa2d67",
   "metadata": {},
   "outputs": [
    {
     "data": {
      "text/plain": [
       "<Axes: xlabel='Price', ylabel='Count'>"
      ]
     },
     "execution_count": 26,
     "metadata": {},
     "output_type": "execute_result"
    },
    {
     "data": {
      "image/png": "[encoded data removed]",
      "text/plain": [
       "<Figure size 640x480 with 1 Axes>"
      ]
     },
     "metadata": {},
     "output_type": "display_data"
    }
   ],
   "source": [
    "# Create histogram of prices of items purchased\n",
    "sns.histplot(df[\"Price\"], color=\"orange\")"
   ]
  },
  {
   "cell_type": "markdown",
   "id": "a46561b2",
   "metadata": {},
   "source": [
    "As with customer ages, the distribution of the prices of items they bought is mostly uniform, with slight increases at the low and high ends. This may indicate increased interest from customers prioritizing very low costs to save money, or very high costs to maximize quality or style.  "
   ]
  },
  {
   "cell_type": "code",
   "execution_count": 27,
   "id": "930f7994",
   "metadata": {},
   "outputs": [
    {
     "data": {
      "text/plain": [
       "count    3900.000000\n",
       "mean       59.764359\n",
       "std        23.685392\n",
       "min        20.000000\n",
       "25%        39.000000\n",
       "50%        60.000000\n",
       "75%        81.000000\n",
       "max       100.000000\n",
       "Name: Price, dtype: float64"
      ]
     },
     "execution_count": 27,
     "metadata": {},
     "output_type": "execute_result"
    }
   ],
   "source": [
    "# Check item price stats\n",
    "df[\"Price\"].describe()"
   ]
  },
  {
   "cell_type": "markdown",
   "id": "56f2e39e",
   "metadata": {},
   "source": [
    "The average item purchased was \\\\$60, the cheapest was \\\\$20, and the most expensive was \\\\$100. "
   ]
  },
  {
   "cell_type": "markdown",
   "id": "c1f565c9",
   "metadata": {},
   "source": [
    "### What is the distribution of review ratings? "
   ]
  },
  {
   "cell_type": "code",
   "execution_count": 28,
   "id": "1345ae46",
   "metadata": {},
   "outputs": [
    {
     "data": {
      "text/plain": [
       "<Axes: xlabel='Review Rating', ylabel='Count'>"
      ]
     },
     "execution_count": 28,
     "metadata": {},
     "output_type": "execute_result"
    },
    {
     "data": {
      "image/png": "[encoded data removed]",
      "text/plain": [
       "<Figure size 640x480 with 1 Axes>"
      ]
     },
     "metadata": {},
     "output_type": "display_data"
    }
   ],
   "source": [
    "sns.histplot(df[\"Review Rating\"], color=\"green\")"
   ]
  },
  {
   "cell_type": "markdown",
   "id": "d675f8c2",
   "metadata": {},
   "source": [
    "The review rating distribution has a relatively uniform distribution as well, with the peculiarity that some specific decimal ratings are far more common than others."
   ]
  },
  {
   "cell_type": "markdown",
   "id": "6a93f7e3",
   "metadata": {},
   "source": [
    "### Which states do people purchase from the most? "
   ]
  },
  {
   "cell_type": "code",
   "execution_count": 29,
   "id": "61441d2c",
   "metadata": {},
   "outputs": [
    {
     "data": {
      "text/html": [
       "<div>\n",
       "<style scoped>\n",
       "    .dataframe tbody tr th:only-of-type {\n",
       "        vertical-align: middle;\n",
       "    }\n",
       "\n",
       "    .dataframe tbody tr th {\n",
       "        vertical-align: top;\n",
       "    }\n",
       "\n",
       "    .dataframe thead th {\n",
       "        text-align: right;\n",
       "    }\n",
       "</style>\n",
       "<table border=\"1\" class=\"dataframe\">\n",
       "  <thead>\n",
       "    <tr style=\"text-align: right;\">\n",
       "      <th></th>\n",
       "      <th>Total Purchases</th>\n",
       "    </tr>\n",
       "    <tr>\n",
       "      <th>Location</th>\n",
       "      <th></th>\n",
       "    </tr>\n",
       "  </thead>\n",
       "  <tbody>\n",
       "    <tr>\n",
       "      <th>Illinois</th>\n",
       "      <td>2539</td>\n",
       "    </tr>\n",
       "    <tr>\n",
       "      <th>Alabama</th>\n",
       "      <td>2532</td>\n",
       "    </tr>\n",
       "    <tr>\n",
       "      <th>Montana</th>\n",
       "      <td>2522</td>\n",
       "    </tr>\n",
       "    <tr>\n",
       "      <th>California</th>\n",
       "      <td>2422</td>\n",
       "    </tr>\n",
       "    <tr>\n",
       "      <th>Minnesota</th>\n",
       "      <td>2395</td>\n",
       "    </tr>\n",
       "  </tbody>\n",
       "</table>\n",
       "</div>"
      ],
      "text/plain": [
       "            Total Purchases\n",
       "Location                   \n",
       "Illinois               2539\n",
       "Alabama                2532\n",
       "Montana                2522\n",
       "California             2422\n",
       "Minnesota              2395"
      ]
     },
     "execution_count": 29,
     "metadata": {},
     "output_type": "execute_result"
    }
   ],
   "source": [
    "# Add column for total purchases (previous purchases + 1 for the current purchase)\n",
    "df[\"Total Purchases\"] = df[\"Previous Purchases\"] + 1\n",
    "\n",
    "# Find the total purchases made in each state and sort from most to least\n",
    "total_purchases_by_state = df.groupby(\"Location\")[\"Total Purchases\"].sum()\n",
    "total_purchases_by_state = total_purchases_by_state.to_frame().sort_values(by=\"Total Purchases\", ascending=False)\n",
    "\n",
    "# Find the first 5 states in terms of total purchases\n",
    "total_purchases_by_state.head()"
   ]
  },
  {
   "cell_type": "markdown",
   "id": "6b88cbff",
   "metadata": {},
   "source": [
    "We can see that Illinois, Alabama, Montana, California and Minnesota are the top 5 states customers purchase from. There does not appear to be any geographical region of the US that dominates. "
   ]
  },
  {
   "cell_type": "markdown",
   "id": "0e175c92",
   "metadata": {},
   "source": [
    "### Which states do people purchase from the least? "
   ]
  },
  {
   "cell_type": "code",
   "execution_count": 30,
   "id": "47758629",
   "metadata": {},
   "outputs": [
    {
     "data": {
      "text/html": [
       "<div>\n",
       "<style scoped>\n",
       "    .dataframe tbody tr th:only-of-type {\n",
       "        vertical-align: middle;\n",
       "    }\n",
       "\n",
       "    .dataframe tbody tr th {\n",
       "        vertical-align: top;\n",
       "    }\n",
       "\n",
       "    .dataframe thead th {\n",
       "        text-align: right;\n",
       "    }\n",
       "</style>\n",
       "<table border=\"1\" class=\"dataframe\">\n",
       "  <thead>\n",
       "    <tr style=\"text-align: right;\">\n",
       "      <th></th>\n",
       "      <th>Total Purchases</th>\n",
       "    </tr>\n",
       "    <tr>\n",
       "      <th>Location</th>\n",
       "      <th></th>\n",
       "    </tr>\n",
       "  </thead>\n",
       "  <tbody>\n",
       "    <tr>\n",
       "      <th>Texas</th>\n",
       "      <td>1731</td>\n",
       "    </tr>\n",
       "    <tr>\n",
       "      <th>Massachusetts</th>\n",
       "      <td>1729</td>\n",
       "    </tr>\n",
       "    <tr>\n",
       "      <th>New Jersey</th>\n",
       "      <td>1659</td>\n",
       "    </tr>\n",
       "    <tr>\n",
       "      <th>Rhode Island</th>\n",
       "      <td>1548</td>\n",
       "    </tr>\n",
       "    <tr>\n",
       "      <th>Kansas</th>\n",
       "      <td>1536</td>\n",
       "    </tr>\n",
       "  </tbody>\n",
       "</table>\n",
       "</div>"
      ],
      "text/plain": [
       "               Total Purchases\n",
       "Location                      \n",
       "Texas                     1731\n",
       "Massachusetts             1729\n",
       "New Jersey                1659\n",
       "Rhode Island              1548\n",
       "Kansas                    1536"
      ]
     },
     "execution_count": 30,
     "metadata": {},
     "output_type": "execute_result"
    }
   ],
   "source": [
    "# Find the last 5 states in terms of total purchases\n",
    "total_purchases_by_state.tail()"
   ]
  },
  {
   "cell_type": "markdown",
   "id": "287392fd",
   "metadata": {},
   "source": [
    "On the other hand, consumers in Massachusetts, Texas, New Jersey, Rhode Island and Kansas are not making many purchases from the company. 3 out of 5 of these states are on the East Coast, indicating that ramping up marketing in this region could be worthwhile. "
   ]
  },
  {
   "cell_type": "markdown",
   "id": "07f032fd",
   "metadata": {},
   "source": [
    "### What is the average review rating for each category of item? "
   ]
  },
  {
   "cell_type": "code",
   "execution_count": 31,
   "id": "e6064d18",
   "metadata": {},
   "outputs": [
    {
     "data": {
      "text/html": [
       "<div>\n",
       "<style scoped>\n",
       "    .dataframe tbody tr th:only-of-type {\n",
       "        vertical-align: middle;\n",
       "    }\n",
       "\n",
       "    .dataframe tbody tr th {\n",
       "        vertical-align: top;\n",
       "    }\n",
       "\n",
       "    .dataframe thead th {\n",
       "        text-align: right;\n",
       "    }\n",
       "</style>\n",
       "<table border=\"1\" class=\"dataframe\">\n",
       "  <thead>\n",
       "    <tr style=\"text-align: right;\">\n",
       "      <th>Category</th>\n",
       "      <th>Footwear</th>\n",
       "      <th>Accessories</th>\n",
       "      <th>Outerwear</th>\n",
       "      <th>Clothing</th>\n",
       "    </tr>\n",
       "  </thead>\n",
       "  <tbody>\n",
       "    <tr>\n",
       "      <th>Review Rating</th>\n",
       "      <td>3.790651</td>\n",
       "      <td>3.768629</td>\n",
       "      <td>3.746914</td>\n",
       "      <td>3.723143</td>\n",
       "    </tr>\n",
       "  </tbody>\n",
       "</table>\n",
       "</div>"
      ],
      "text/plain": [
       "Category       Footwear  Accessories  Outerwear  Clothing\n",
       "Review Rating  3.790651     3.768629   3.746914  3.723143"
      ]
     },
     "execution_count": 31,
     "metadata": {},
     "output_type": "execute_result"
    }
   ],
   "source": [
    "# Find average rating for each item category\n",
    "#df.head(1)\n",
    "avg_rating_by_category = df.groupby(\"Category\")[\"Review Rating\"].mean().to_frame()\n",
    "avg_rating_by_category = avg_rating_by_category.sort_values(by=\"Review Rating\", ascending=False)\n",
    "avg_rating_by_category.head().transpose()"
   ]
  },
  {
   "cell_type": "code",
   "execution_count": 32,
   "id": "c4abdf56",
   "metadata": {},
   "outputs": [
    {
     "data": {
      "text/plain": [
       "0.017809007745930555"
      ]
     },
     "execution_count": 32,
     "metadata": {},
     "output_type": "execute_result"
    }
   ],
   "source": [
    "range = avg_rating_by_category[\"Review Rating\"].max() - avg_rating_by_category[\"Review Rating\"].min()\n",
    "range / avg_rating_by_category[\"Review Rating\"].max()"
   ]
  },
  {
   "cell_type": "markdown",
   "id": "353fdd34",
   "metadata": {},
   "source": [
    "We can see that the average review rating for each category is almost identical, with the range of values comprising less than 1.8% of the average rating for footwear, the maximum. "
   ]
  },
  {
   "cell_type": "markdown",
   "id": "b9a4180c",
   "metadata": {},
   "source": [
    "### What is the average review rating for each type of item (T-Shirt, Skirt, Sandals, etc.)? "
   ]
  },
  {
   "cell_type": "code",
   "execution_count": 33,
   "id": "cec107d1",
   "metadata": {},
   "outputs": [
    {
     "data": {
      "text/html": [
       "<div>\n",
       "<style scoped>\n",
       "    .dataframe tbody tr th:only-of-type {\n",
       "        vertical-align: middle;\n",
       "    }\n",
       "\n",
       "    .dataframe tbody tr th {\n",
       "        vertical-align: top;\n",
       "    }\n",
       "\n",
       "    .dataframe thead th {\n",
       "        text-align: right;\n",
       "    }\n",
       "</style>\n",
       "<table border=\"1\" class=\"dataframe\">\n",
       "  <thead>\n",
       "    <tr style=\"text-align: right;\">\n",
       "      <th></th>\n",
       "      <th>Review Rating</th>\n",
       "    </tr>\n",
       "    <tr>\n",
       "      <th>Item Purchased</th>\n",
       "      <th></th>\n",
       "    </tr>\n",
       "  </thead>\n",
       "  <tbody>\n",
       "    <tr>\n",
       "      <th>Gloves</th>\n",
       "      <td>3.864286</td>\n",
       "    </tr>\n",
       "    <tr>\n",
       "      <th>Sandals</th>\n",
       "      <td>3.841250</td>\n",
       "    </tr>\n",
       "    <tr>\n",
       "      <th>Boots</th>\n",
       "      <td>3.812500</td>\n",
       "    </tr>\n",
       "    <tr>\n",
       "      <th>Hat</th>\n",
       "      <td>3.806494</td>\n",
       "    </tr>\n",
       "    <tr>\n",
       "      <th>T-shirt</th>\n",
       "      <td>3.782993</td>\n",
       "    </tr>\n",
       "    <tr>\n",
       "      <th>Skirt</th>\n",
       "      <td>3.782278</td>\n",
       "    </tr>\n",
       "    <tr>\n",
       "      <th>Handbag</th>\n",
       "      <td>3.775163</td>\n",
       "    </tr>\n",
       "    <tr>\n",
       "      <th>Sweater</th>\n",
       "      <td>3.767073</td>\n",
       "    </tr>\n",
       "    <tr>\n",
       "      <th>Jacket</th>\n",
       "      <td>3.763190</td>\n",
       "    </tr>\n",
       "    <tr>\n",
       "      <th>Belt</th>\n",
       "      <td>3.761491</td>\n",
       "    </tr>\n",
       "    <tr>\n",
       "      <th>Sneakers</th>\n",
       "      <td>3.757931</td>\n",
       "    </tr>\n",
       "    <tr>\n",
       "      <th>Jewelry</th>\n",
       "      <td>3.756140</td>\n",
       "    </tr>\n",
       "    <tr>\n",
       "      <th>Dress</th>\n",
       "      <td>3.754819</td>\n",
       "    </tr>\n",
       "    <tr>\n",
       "      <th>Backpack</th>\n",
       "      <td>3.752448</td>\n",
       "    </tr>\n",
       "    <tr>\n",
       "      <th>Socks</th>\n",
       "      <td>3.750943</td>\n",
       "    </tr>\n",
       "    <tr>\n",
       "      <th>Shoes</th>\n",
       "      <td>3.747333</td>\n",
       "    </tr>\n",
       "    <tr>\n",
       "      <th>Sunglasses</th>\n",
       "      <td>3.744720</td>\n",
       "    </tr>\n",
       "    <tr>\n",
       "      <th>Coat</th>\n",
       "      <td>3.730435</td>\n",
       "    </tr>\n",
       "    <tr>\n",
       "      <th>Hoodie</th>\n",
       "      <td>3.719205</td>\n",
       "    </tr>\n",
       "    <tr>\n",
       "      <th>Pants</th>\n",
       "      <td>3.718713</td>\n",
       "    </tr>\n",
       "    <tr>\n",
       "      <th>Shorts</th>\n",
       "      <td>3.711465</td>\n",
       "    </tr>\n",
       "    <tr>\n",
       "      <th>Scarf</th>\n",
       "      <td>3.700000</td>\n",
       "    </tr>\n",
       "    <tr>\n",
       "      <th>Blouse</th>\n",
       "      <td>3.683626</td>\n",
       "    </tr>\n",
       "    <tr>\n",
       "      <th>Jeans</th>\n",
       "      <td>3.648387</td>\n",
       "    </tr>\n",
       "    <tr>\n",
       "      <th>Shirt</th>\n",
       "      <td>3.629586</td>\n",
       "    </tr>\n",
       "  </tbody>\n",
       "</table>\n",
       "</div>"
      ],
      "text/plain": [
       "                Review Rating\n",
       "Item Purchased               \n",
       "Gloves               3.864286\n",
       "Sandals              3.841250\n",
       "Boots                3.812500\n",
       "Hat                  3.806494\n",
       "T-shirt              3.782993\n",
       "Skirt                3.782278\n",
       "Handbag              3.775163\n",
       "Sweater              3.767073\n",
       "Jacket               3.763190\n",
       "Belt                 3.761491\n",
       "Sneakers             3.757931\n",
       "Jewelry              3.756140\n",
       "Dress                3.754819\n",
       "Backpack             3.752448\n",
       "Socks                3.750943\n",
       "Shoes                3.747333\n",
       "Sunglasses           3.744720\n",
       "Coat                 3.730435\n",
       "Hoodie               3.719205\n",
       "Pants                3.718713\n",
       "Shorts               3.711465\n",
       "Scarf                3.700000\n",
       "Blouse               3.683626\n",
       "Jeans                3.648387\n",
       "Shirt                3.629586"
      ]
     },
     "execution_count": 33,
     "metadata": {},
     "output_type": "execute_result"
    }
   ],
   "source": [
    "avg_rating_by_item = df.groupby(\"Item Purchased\")[\"Review Rating\"].mean().to_frame()\n",
    "avg_rating_by_item = avg_rating_by_item.sort_values(by=\"Review Rating\", ascending=False)\n",
    "avg_rating_by_item"
   ]
  },
  {
   "cell_type": "markdown",
   "id": "47684195",
   "metadata": {},
   "source": [
    "Some of the lowest-rated items on average are extremely common, such as shirts, jeans, shorts, and pants. The quality of these items should be checked to ensure they meet customer expectations. Additionally, customers may perceive these common items as too expensive given how common and unexciting they are, whereas they might be willing to pay more for less-used items, such as a dress for a special occasion or gloves that will last a long time. "
   ]
  },
  {
   "cell_type": "markdown",
   "id": "2434dfb8",
   "metadata": {},
   "source": [
    "### What is the most common payment method used by customers? "
   ]
  },
  {
   "cell_type": "code",
   "execution_count": 34,
   "id": "23479861",
   "metadata": {},
   "outputs": [
    {
     "data": {
      "text/plain": [
       "Payment Method\n",
       "PayPal           677\n",
       "Credit Card      671\n",
       "Cash             670\n",
       "Debit Card       636\n",
       "Venmo            634\n",
       "Bank Transfer    612\n",
       "Name: count, dtype: int64"
      ]
     },
     "execution_count": 34,
     "metadata": {},
     "output_type": "execute_result"
    }
   ],
   "source": [
    "# Find most common payment methods\n",
    "df[\"Payment Method\"].value_counts()"
   ]
  },
  {
   "cell_type": "code",
   "execution_count": 35,
   "id": "0ee7442b",
   "metadata": {},
   "outputs": [
    {
     "data": {
      "text/plain": [
       "<Axes: xlabel='Payment Method', ylabel='Count'>"
      ]
     },
     "execution_count": 35,
     "metadata": {},
     "output_type": "execute_result"
    },
    {
     "data": {
      "image/png": "[encoded data removed]",
      "text/plain": [
       "<Figure size 640x480 with 1 Axes>"
      ]
     },
     "metadata": {},
     "output_type": "display_data"
    }
   ],
   "source": [
    "sns.histplot(df[\"Payment Method\"], color=\"green\")"
   ]
  },
  {
   "cell_type": "markdown",
   "id": "1bf58c4f",
   "metadata": {},
   "source": [
    "We see a fairly uniform distribution for payment types, which subverted my expectations. I assumed that the standard methods of cash, credit card and debit card would be by far the most common. "
   ]
  },
  {
   "cell_type": "markdown",
   "id": "1aaaaf46",
   "metadata": {},
   "source": [
    "### How do customers with subscriptions compare to those without? \n",
    "* Who tends to make more purchases on average? \n",
    "* Who spends more on average? \n",
    "* Where do customers with subscriptions tend to be located? \n",
    "* Are there any differences in shipping type preferences? "
   ]
  },
  {
   "cell_type": "code",
   "execution_count": 36,
   "id": "89de9540",
   "metadata": {
    "scrolled": true
   },
   "outputs": [
    {
     "data": {
      "text/html": [
       "<div>\n",
       "<style scoped>\n",
       "    .dataframe tbody tr th:only-of-type {\n",
       "        vertical-align: middle;\n",
       "    }\n",
       "\n",
       "    .dataframe tbody tr th {\n",
       "        vertical-align: top;\n",
       "    }\n",
       "\n",
       "    .dataframe thead th {\n",
       "        text-align: right;\n",
       "    }\n",
       "</style>\n",
       "<table border=\"1\" class=\"dataframe\">\n",
       "  <thead>\n",
       "    <tr style=\"text-align: right;\">\n",
       "      <th></th>\n",
       "      <th>Customer ID</th>\n",
       "      <th>Age</th>\n",
       "      <th>Gender</th>\n",
       "      <th>Item Purchased</th>\n",
       "      <th>Category</th>\n",
       "      <th>Price</th>\n",
       "      <th>Location</th>\n",
       "      <th>Size</th>\n",
       "      <th>Color</th>\n",
       "      <th>Season</th>\n",
       "      <th>Review Rating</th>\n",
       "      <th>Subscribed?</th>\n",
       "      <th>Shipping Type</th>\n",
       "      <th>Discount?</th>\n",
       "      <th>Promo Code Used?</th>\n",
       "      <th>Previous Purchases</th>\n",
       "      <th>Payment Method</th>\n",
       "      <th>Purchase Frequency</th>\n",
       "      <th>Total Purchases</th>\n",
       "    </tr>\n",
       "  </thead>\n",
       "  <tbody>\n",
       "    <tr>\n",
       "      <th>0</th>\n",
       "      <td>1</td>\n",
       "      <td>55</td>\n",
       "      <td>Male</td>\n",
       "      <td>Blouse</td>\n",
       "      <td>Clothing</td>\n",
       "      <td>53</td>\n",
       "      <td>Kentucky</td>\n",
       "      <td>L</td>\n",
       "      <td>Gray</td>\n",
       "      <td>Winter</td>\n",
       "      <td>3.1</td>\n",
       "      <td>Yes</td>\n",
       "      <td>Express</td>\n",
       "      <td>Yes</td>\n",
       "      <td>Yes</td>\n",
       "      <td>14</td>\n",
       "      <td>Venmo</td>\n",
       "      <td>Fortnightly</td>\n",
       "      <td>15</td>\n",
       "    </tr>\n",
       "  </tbody>\n",
       "</table>\n",
       "</div>"
      ],
      "text/plain": [
       "   Customer ID  Age Gender Item Purchased  Category  Price  Location Size  \\\n",
       "0            1   55   Male         Blouse  Clothing     53  Kentucky    L   \n",
       "\n",
       "  Color  Season  Review Rating Subscribed? Shipping Type Discount?  \\\n",
       "0  Gray  Winter            3.1         Yes       Express       Yes   \n",
       "\n",
       "  Promo Code Used?  Previous Purchases Payment Method Purchase Frequency  \\\n",
       "0              Yes                  14          Venmo        Fortnightly   \n",
       "\n",
       "   Total Purchases  \n",
       "0               15  "
      ]
     },
     "execution_count": 36,
     "metadata": {},
     "output_type": "execute_result"
    }
   ],
   "source": [
    "df.head(1)"
   ]
  },
  {
   "cell_type": "code",
   "execution_count": 37,
   "id": "ef6989c9",
   "metadata": {},
   "outputs": [],
   "source": [
    "# Create separate dataframes for subscribers and non-subscribers\n",
    "subscriber_df = df.loc[df[\"Subscribed?\"] == \"Yes\"]\n",
    "non_subscriber_df = df.loc[df[\"Subscribed?\"] == \"No\"]"
   ]
  },
  {
   "cell_type": "markdown",
   "id": "f5370494",
   "metadata": {},
   "source": [
    "#### Who tends to make more purchases on average?"
   ]
  },
  {
   "cell_type": "code",
   "execution_count": 38,
   "id": "02a43bf4",
   "metadata": {},
   "outputs": [
    {
     "data": {
      "text/html": [
       "<div>\n",
       "<style scoped>\n",
       "    .dataframe tbody tr th:only-of-type {\n",
       "        vertical-align: middle;\n",
       "    }\n",
       "\n",
       "    .dataframe tbody tr th {\n",
       "        vertical-align: top;\n",
       "    }\n",
       "\n",
       "    .dataframe thead th {\n",
       "        text-align: right;\n",
       "    }\n",
       "</style>\n",
       "<table border=\"1\" class=\"dataframe\">\n",
       "  <thead>\n",
       "    <tr style=\"text-align: right;\">\n",
       "      <th>Subscribed?</th>\n",
       "      <th>Yes</th>\n",
       "      <th>No</th>\n",
       "    </tr>\n",
       "  </thead>\n",
       "  <tbody>\n",
       "    <tr>\n",
       "      <th>Total Purchases</th>\n",
       "      <td>28520</td>\n",
       "      <td>74251</td>\n",
       "    </tr>\n",
       "  </tbody>\n",
       "</table>\n",
       "</div>"
      ],
      "text/plain": [
       "Subscribed?        Yes     No\n",
       "Total Purchases  28520  74251"
      ]
     },
     "execution_count": 38,
     "metadata": {},
     "output_type": "execute_result"
    }
   ],
   "source": [
    "# Find the total number of purchases made by subscribers and non-subscribers\n",
    "num_purchases_by_subscription_status = df.groupby(\"Subscribed?\")[\"Total Purchases\"].sum().to_frame().sort_values(by=\"Subscribed?\", ascending=False).transpose()\n",
    "num_purchases_by_subscription_status"
   ]
  },
  {
   "cell_type": "code",
   "execution_count": 39,
   "id": "82c25403",
   "metadata": {},
   "outputs": [
    {
     "data": {
      "text/html": [
       "<div>\n",
       "<style scoped>\n",
       "    .dataframe tbody tr th:only-of-type {\n",
       "        vertical-align: middle;\n",
       "    }\n",
       "\n",
       "    .dataframe tbody tr th {\n",
       "        vertical-align: top;\n",
       "    }\n",
       "\n",
       "    .dataframe thead th {\n",
       "        text-align: right;\n",
       "    }\n",
       "</style>\n",
       "<table border=\"1\" class=\"dataframe\">\n",
       "  <thead>\n",
       "    <tr style=\"text-align: right;\">\n",
       "      <th>Subscribed?</th>\n",
       "      <th>Yes</th>\n",
       "      <th>No</th>\n",
       "    </tr>\n",
       "  </thead>\n",
       "  <tbody>\n",
       "    <tr>\n",
       "      <th>count</th>\n",
       "      <td>1053</td>\n",
       "      <td>2847</td>\n",
       "    </tr>\n",
       "  </tbody>\n",
       "</table>\n",
       "</div>"
      ],
      "text/plain": [
       "Subscribed?   Yes    No\n",
       "count        1053  2847"
      ]
     },
     "execution_count": 39,
     "metadata": {},
     "output_type": "execute_result"
    }
   ],
   "source": [
    "# Find the total number of subscribers and non-subscribers\n",
    "num_subscribers = df[\"Subscribed?\"].value_counts().to_frame().sort_values(by=\"Subscribed?\", ascending=False).transpose()\n",
    "num_subscribers"
   ]
  },
  {
   "cell_type": "code",
   "execution_count": 40,
   "id": "1c769d3a",
   "metadata": {},
   "outputs": [
    {
     "data": {
      "text/plain": [
       "27.084520417853753"
      ]
     },
     "execution_count": 40,
     "metadata": {},
     "output_type": "execute_result"
    }
   ],
   "source": [
    "# Find the average number of purchases made by a subscriber\n",
    "purchases_by_subscribers = num_purchases_by_subscription_status.loc[\"Total Purchases\", \"Yes\"]\n",
    "subscribers = num_subscribers.loc[\"count\", \"Yes\"]\n",
    "avg_purchases_per_subscriber = purchases_by_subscribers / subscribers\n",
    "avg_purchases_per_subscriber"
   ]
  },
  {
   "cell_type": "code",
   "execution_count": 41,
   "id": "fed12e45",
   "metadata": {},
   "outputs": [
    {
     "data": {
      "text/plain": [
       "26.08043554618897"
      ]
     },
     "execution_count": 41,
     "metadata": {},
     "output_type": "execute_result"
    }
   ],
   "source": [
    "# Find the average number of purchases made by a non-subscriber\n",
    "purchases_by_non_subscribers = num_purchases_by_subscription_status.loc[\"Total Purchases\", \"No\"]\n",
    "non_subscribers = num_subscribers.loc[\"count\", \"No\"]\n",
    "avg_purchases_per_non_subscriber = purchases_by_non_subscribers / non_subscribers\n",
    "avg_purchases_per_non_subscriber"
   ]
  },
  {
   "cell_type": "markdown",
   "id": "40409b71",
   "metadata": {},
   "source": [
    "We can see that the average subscriber only made one more purchase than the average non-subscriber. This was surprising to me because I assumed subscribers would make far more purchases than non-subscribers to justify the cost of their subscription, whatever that is. "
   ]
  },
  {
   "cell_type": "markdown",
   "id": "a577f4c5",
   "metadata": {},
   "source": [
    "#### Who spends more per item on average? "
   ]
  },
  {
   "cell_type": "code",
   "execution_count": 42,
   "id": "e538999f",
   "metadata": {},
   "outputs": [
    {
     "data": {
      "text/plain": [
       "count    1053.000000\n",
       "mean       59.491928\n",
       "std        23.449914\n",
       "min        20.000000\n",
       "25%        39.000000\n",
       "50%        60.000000\n",
       "75%        80.000000\n",
       "max       100.000000\n",
       "Name: Price, dtype: float64"
      ]
     },
     "execution_count": 42,
     "metadata": {},
     "output_type": "execute_result"
    }
   ],
   "source": [
    "# Find the average price of an item bought by a subscriber\n",
    "subscriber_df[\"Price\"].describe()"
   ]
  },
  {
   "cell_type": "code",
   "execution_count": 43,
   "id": "8ed1db44",
   "metadata": {},
   "outputs": [
    {
     "data": {
      "text/plain": [
       "count    2847.000000\n",
       "mean       59.865121\n",
       "std        23.775199\n",
       "min        20.000000\n",
       "25%        38.000000\n",
       "50%        60.000000\n",
       "75%        81.000000\n",
       "max       100.000000\n",
       "Name: Price, dtype: float64"
      ]
     },
     "execution_count": 43,
     "metadata": {},
     "output_type": "execute_result"
    }
   ],
   "source": [
    "# Find the average price of an item bought by a non-subscriber\n",
    "non_subscriber_df[\"Price\"].describe()"
   ]
  },
  {
   "cell_type": "markdown",
   "id": "6bd9f216",
   "metadata": {},
   "source": [
    "The mean price of an item purchased by both subscribers and non-subscribers is just over \\\\$59, and there is no major difference between the two groups."
   ]
  },
  {
   "cell_type": "markdown",
   "id": "a4595c43",
   "metadata": {},
   "source": [
    "#### Where do customers with subscriptions tend to be located? "
   ]
  },
  {
   "cell_type": "code",
   "execution_count": 44,
   "id": "fc3c7b94",
   "metadata": {},
   "outputs": [
    {
     "data": {
      "text/html": [
       "<div>\n",
       "<style scoped>\n",
       "    .dataframe tbody tr th:only-of-type {\n",
       "        vertical-align: middle;\n",
       "    }\n",
       "\n",
       "    .dataframe tbody tr th {\n",
       "        vertical-align: top;\n",
       "    }\n",
       "\n",
       "    .dataframe thead th {\n",
       "        text-align: right;\n",
       "    }\n",
       "</style>\n",
       "<table border=\"1\" class=\"dataframe\">\n",
       "  <thead>\n",
       "    <tr style=\"text-align: right;\">\n",
       "      <th>Location</th>\n",
       "      <th>Nevada</th>\n",
       "      <th>California</th>\n",
       "      <th>West Virginia</th>\n",
       "      <th>Delaware</th>\n",
       "      <th>South Carolina</th>\n",
       "      <th>Missouri</th>\n",
       "      <th>Kentucky</th>\n",
       "      <th>Minnesota</th>\n",
       "      <th>Nebraska</th>\n",
       "      <th>Montana</th>\n",
       "    </tr>\n",
       "  </thead>\n",
       "  <tbody>\n",
       "    <tr>\n",
       "      <th>count</th>\n",
       "      <td>30</td>\n",
       "      <td>29</td>\n",
       "      <td>28</td>\n",
       "      <td>28</td>\n",
       "      <td>27</td>\n",
       "      <td>27</td>\n",
       "      <td>26</td>\n",
       "      <td>26</td>\n",
       "      <td>25</td>\n",
       "      <td>25</td>\n",
       "    </tr>\n",
       "  </tbody>\n",
       "</table>\n",
       "</div>"
      ],
      "text/plain": [
       "Location  Nevada  California  West Virginia  Delaware  South Carolina  \\\n",
       "count         30          29             28        28              27   \n",
       "\n",
       "Location  Missouri  Kentucky  Minnesota  Nebraska  Montana  \n",
       "count           27        26         26        25       25  "
      ]
     },
     "execution_count": 44,
     "metadata": {},
     "output_type": "execute_result"
    }
   ],
   "source": [
    "# Find most common states for subscribers\n",
    "subscriber_df[\"Location\"].value_counts().to_frame().head(10).transpose()"
   ]
  },
  {
   "cell_type": "markdown",
   "id": "4ee67c09",
   "metadata": {},
   "source": [
    "There doesn't appear to be a clear regional pattern in the states with the most subscriber purchases. "
   ]
  },
  {
   "cell_type": "markdown",
   "id": "5fbde02b",
   "metadata": {},
   "source": [
    "### In what states do customers order with \"Express\", \"Next Day Air\" or \"2-day\" shipping most often? \n",
    "Who is in a rush to get their stuff? "
   ]
  },
  {
   "cell_type": "code",
   "execution_count": 45,
   "id": "34bf3677",
   "metadata": {},
   "outputs": [
    {
     "data": {
      "text/html": [
       "<div>\n",
       "<style scoped>\n",
       "    .dataframe tbody tr th:only-of-type {\n",
       "        vertical-align: middle;\n",
       "    }\n",
       "\n",
       "    .dataframe tbody tr th {\n",
       "        vertical-align: top;\n",
       "    }\n",
       "\n",
       "    .dataframe thead th {\n",
       "        text-align: right;\n",
       "    }\n",
       "</style>\n",
       "<table border=\"1\" class=\"dataframe\">\n",
       "  <thead>\n",
       "    <tr style=\"text-align: right;\">\n",
       "      <th>Location</th>\n",
       "      <th>Alabama</th>\n",
       "      <th>California</th>\n",
       "      <th>Maryland</th>\n",
       "      <th>Arkansas</th>\n",
       "      <th>Connecticut</th>\n",
       "      <th>Louisiana</th>\n",
       "      <th>Idaho</th>\n",
       "      <th>Minnesota</th>\n",
       "      <th>Delaware</th>\n",
       "      <th>Oregon</th>\n",
       "    </tr>\n",
       "    <tr>\n",
       "      <th>Shipping Type</th>\n",
       "      <th></th>\n",
       "      <th></th>\n",
       "      <th></th>\n",
       "      <th></th>\n",
       "      <th></th>\n",
       "      <th></th>\n",
       "      <th></th>\n",
       "      <th></th>\n",
       "      <th></th>\n",
       "      <th></th>\n",
       "    </tr>\n",
       "  </thead>\n",
       "  <tbody>\n",
       "    <tr>\n",
       "      <th>2-day</th>\n",
       "      <td>16</td>\n",
       "      <td>14</td>\n",
       "      <td>18</td>\n",
       "      <td>12</td>\n",
       "      <td>16</td>\n",
       "      <td>12</td>\n",
       "      <td>15</td>\n",
       "      <td>15</td>\n",
       "      <td>14</td>\n",
       "      <td>19</td>\n",
       "    </tr>\n",
       "    <tr>\n",
       "      <th>Express</th>\n",
       "      <td>20</td>\n",
       "      <td>16</td>\n",
       "      <td>13</td>\n",
       "      <td>16</td>\n",
       "      <td>11</td>\n",
       "      <td>13</td>\n",
       "      <td>14</td>\n",
       "      <td>15</td>\n",
       "      <td>14</td>\n",
       "      <td>12</td>\n",
       "    </tr>\n",
       "    <tr>\n",
       "      <th>Next Day Air</th>\n",
       "      <td>17</td>\n",
       "      <td>20</td>\n",
       "      <td>15</td>\n",
       "      <td>17</td>\n",
       "      <td>18</td>\n",
       "      <td>20</td>\n",
       "      <td>16</td>\n",
       "      <td>15</td>\n",
       "      <td>16</td>\n",
       "      <td>13</td>\n",
       "    </tr>\n",
       "    <tr>\n",
       "      <th>Total</th>\n",
       "      <td>53</td>\n",
       "      <td>50</td>\n",
       "      <td>46</td>\n",
       "      <td>45</td>\n",
       "      <td>45</td>\n",
       "      <td>45</td>\n",
       "      <td>45</td>\n",
       "      <td>45</td>\n",
       "      <td>44</td>\n",
       "      <td>44</td>\n",
       "    </tr>\n",
       "  </tbody>\n",
       "</table>\n",
       "</div>"
      ],
      "text/plain": [
       "Location       Alabama  California  Maryland  Arkansas  Connecticut  \\\n",
       "Shipping Type                                                         \n",
       "2-day               16          14        18        12           16   \n",
       "Express             20          16        13        16           11   \n",
       "Next Day Air        17          20        15        17           18   \n",
       "Total               53          50        46        45           45   \n",
       "\n",
       "Location       Louisiana  Idaho  Minnesota  Delaware  Oregon  \n",
       "Shipping Type                                                 \n",
       "2-day                 12     15         15        14      19  \n",
       "Express               13     14         15        14      12  \n",
       "Next Day Air          20     16         15        16      13  \n",
       "Total                 45     45         45        44      44  "
      ]
     },
     "execution_count": 45,
     "metadata": {},
     "output_type": "execute_result"
    }
   ],
   "source": [
    "# Find states that order expedited shipping most often\n",
    "expedited_shipping_orders = df.loc[(df[\"Shipping Type\"] == \"Express\") | (df[\"Shipping Type\"] == \"Next Day Air\") | (df[\"Shipping Type\"] == \"2-day\")]\n",
    "#expedited_shipping_orders[\"Shipping Type\"].value_counts()\n",
    "expedited_shipping_orders_by_state = expedited_shipping_orders.groupby(\"Location\")[\"Shipping Type\"].value_counts().unstack()\n",
    "expedited_shipping_orders_by_state[\"Total\"] = expedited_shipping_orders_by_state[\"2-day\"] + expedited_shipping_orders_by_state[\"Express\"] + expedited_shipping_orders_by_state[\"Next Day Air\"]\n",
    "expedited_shipping_orders_by_state.sort_values(by=\"Total\", ascending=False).head(10).transpose()"
   ]
  },
  {
   "cell_type": "markdown",
   "id": "35b7f6ff",
   "metadata": {},
   "source": [
    "Again, there doesn't seem to be much of a geographic pattern between states where the most rapid shipping options are selected most often. "
   ]
  },
  {
   "cell_type": "markdown",
   "id": "037055cf",
   "metadata": {},
   "source": [
    "### Which seasons see the most purchases? "
   ]
  },
  {
   "cell_type": "code",
   "execution_count": 46,
   "id": "d9d8356a",
   "metadata": {},
   "outputs": [
    {
     "data": {
      "text/html": [
       "<div>\n",
       "<style scoped>\n",
       "    .dataframe tbody tr th:only-of-type {\n",
       "        vertical-align: middle;\n",
       "    }\n",
       "\n",
       "    .dataframe tbody tr th {\n",
       "        vertical-align: top;\n",
       "    }\n",
       "\n",
       "    .dataframe thead th {\n",
       "        text-align: right;\n",
       "    }\n",
       "</style>\n",
       "<table border=\"1\" class=\"dataframe\">\n",
       "  <thead>\n",
       "    <tr style=\"text-align: right;\">\n",
       "      <th></th>\n",
       "      <th>Customer ID</th>\n",
       "      <th>Age</th>\n",
       "      <th>Gender</th>\n",
       "      <th>Item Purchased</th>\n",
       "      <th>Category</th>\n",
       "      <th>Price</th>\n",
       "      <th>Location</th>\n",
       "      <th>Size</th>\n",
       "      <th>Color</th>\n",
       "      <th>Season</th>\n",
       "      <th>Review Rating</th>\n",
       "      <th>Subscribed?</th>\n",
       "      <th>Shipping Type</th>\n",
       "      <th>Discount?</th>\n",
       "      <th>Promo Code Used?</th>\n",
       "      <th>Previous Purchases</th>\n",
       "      <th>Payment Method</th>\n",
       "      <th>Purchase Frequency</th>\n",
       "      <th>Total Purchases</th>\n",
       "    </tr>\n",
       "  </thead>\n",
       "  <tbody>\n",
       "    <tr>\n",
       "      <th>0</th>\n",
       "      <td>1</td>\n",
       "      <td>55</td>\n",
       "      <td>Male</td>\n",
       "      <td>Blouse</td>\n",
       "      <td>Clothing</td>\n",
       "      <td>53</td>\n",
       "      <td>Kentucky</td>\n",
       "      <td>L</td>\n",
       "      <td>Gray</td>\n",
       "      <td>Winter</td>\n",
       "      <td>3.1</td>\n",
       "      <td>Yes</td>\n",
       "      <td>Express</td>\n",
       "      <td>Yes</td>\n",
       "      <td>Yes</td>\n",
       "      <td>14</td>\n",
       "      <td>Venmo</td>\n",
       "      <td>Fortnightly</td>\n",
       "      <td>15</td>\n",
       "    </tr>\n",
       "    <tr>\n",
       "      <th>1</th>\n",
       "      <td>2</td>\n",
       "      <td>19</td>\n",
       "      <td>Male</td>\n",
       "      <td>Sweater</td>\n",
       "      <td>Clothing</td>\n",
       "      <td>64</td>\n",
       "      <td>Maine</td>\n",
       "      <td>L</td>\n",
       "      <td>Maroon</td>\n",
       "      <td>Winter</td>\n",
       "      <td>3.1</td>\n",
       "      <td>Yes</td>\n",
       "      <td>Express</td>\n",
       "      <td>Yes</td>\n",
       "      <td>Yes</td>\n",
       "      <td>2</td>\n",
       "      <td>Cash</td>\n",
       "      <td>Fortnightly</td>\n",
       "      <td>3</td>\n",
       "    </tr>\n",
       "    <tr>\n",
       "      <th>2</th>\n",
       "      <td>3</td>\n",
       "      <td>50</td>\n",
       "      <td>Male</td>\n",
       "      <td>Jeans</td>\n",
       "      <td>Clothing</td>\n",
       "      <td>73</td>\n",
       "      <td>Massachusetts</td>\n",
       "      <td>S</td>\n",
       "      <td>Maroon</td>\n",
       "      <td>Spring</td>\n",
       "      <td>3.1</td>\n",
       "      <td>Yes</td>\n",
       "      <td>Free</td>\n",
       "      <td>Yes</td>\n",
       "      <td>Yes</td>\n",
       "      <td>23</td>\n",
       "      <td>Credit Card</td>\n",
       "      <td>Weekly</td>\n",
       "      <td>24</td>\n",
       "    </tr>\n",
       "    <tr>\n",
       "      <th>3</th>\n",
       "      <td>4</td>\n",
       "      <td>21</td>\n",
       "      <td>Male</td>\n",
       "      <td>Sandals</td>\n",
       "      <td>Footwear</td>\n",
       "      <td>90</td>\n",
       "      <td>Rhode Island</td>\n",
       "      <td>M</td>\n",
       "      <td>Maroon</td>\n",
       "      <td>Spring</td>\n",
       "      <td>3.5</td>\n",
       "      <td>Yes</td>\n",
       "      <td>Next Day Air</td>\n",
       "      <td>Yes</td>\n",
       "      <td>Yes</td>\n",
       "      <td>49</td>\n",
       "      <td>PayPal</td>\n",
       "      <td>Weekly</td>\n",
       "      <td>50</td>\n",
       "    </tr>\n",
       "    <tr>\n",
       "      <th>4</th>\n",
       "      <td>5</td>\n",
       "      <td>45</td>\n",
       "      <td>Male</td>\n",
       "      <td>Blouse</td>\n",
       "      <td>Clothing</td>\n",
       "      <td>49</td>\n",
       "      <td>Oregon</td>\n",
       "      <td>M</td>\n",
       "      <td>Turquoise</td>\n",
       "      <td>Spring</td>\n",
       "      <td>2.7</td>\n",
       "      <td>Yes</td>\n",
       "      <td>Free</td>\n",
       "      <td>Yes</td>\n",
       "      <td>Yes</td>\n",
       "      <td>31</td>\n",
       "      <td>PayPal</td>\n",
       "      <td>Annually</td>\n",
       "      <td>32</td>\n",
       "    </tr>\n",
       "  </tbody>\n",
       "</table>\n",
       "</div>"
      ],
      "text/plain": [
       "   Customer ID  Age Gender Item Purchased  Category  Price       Location  \\\n",
       "0            1   55   Male         Blouse  Clothing     53       Kentucky   \n",
       "1            2   19   Male        Sweater  Clothing     64          Maine   \n",
       "2            3   50   Male          Jeans  Clothing     73  Massachusetts   \n",
       "3            4   21   Male        Sandals  Footwear     90   Rhode Island   \n",
       "4            5   45   Male         Blouse  Clothing     49         Oregon   \n",
       "\n",
       "  Size      Color  Season  Review Rating Subscribed? Shipping Type Discount?  \\\n",
       "0    L       Gray  Winter            3.1         Yes       Express       Yes   \n",
       "1    L     Maroon  Winter            3.1         Yes       Express       Yes   \n",
       "2    S     Maroon  Spring            3.1         Yes          Free       Yes   \n",
       "3    M     Maroon  Spring            3.5         Yes  Next Day Air       Yes   \n",
       "4    M  Turquoise  Spring            2.7         Yes          Free       Yes   \n",
       "\n",
       "  Promo Code Used?  Previous Purchases Payment Method Purchase Frequency  \\\n",
       "0              Yes                  14          Venmo        Fortnightly   \n",
       "1              Yes                   2           Cash        Fortnightly   \n",
       "2              Yes                  23    Credit Card             Weekly   \n",
       "3              Yes                  49         PayPal             Weekly   \n",
       "4              Yes                  31         PayPal           Annually   \n",
       "\n",
       "   Total Purchases  \n",
       "0               15  \n",
       "1                3  \n",
       "2               24  \n",
       "3               50  \n",
       "4               32  "
      ]
     },
     "execution_count": 46,
     "metadata": {},
     "output_type": "execute_result"
    }
   ],
   "source": [
    "df.head()"
   ]
  },
  {
   "cell_type": "code",
   "execution_count": 47,
   "id": "0fa50506",
   "metadata": {},
   "outputs": [
    {
     "data": {
      "text/html": [
       "<div>\n",
       "<style scoped>\n",
       "    .dataframe tbody tr th:only-of-type {\n",
       "        vertical-align: middle;\n",
       "    }\n",
       "\n",
       "    .dataframe tbody tr th {\n",
       "        vertical-align: top;\n",
       "    }\n",
       "\n",
       "    .dataframe thead th {\n",
       "        text-align: right;\n",
       "    }\n",
       "</style>\n",
       "<table border=\"1\" class=\"dataframe\">\n",
       "  <thead>\n",
       "    <tr style=\"text-align: right;\">\n",
       "      <th>Season</th>\n",
       "      <th>Fall</th>\n",
       "      <th>Spring</th>\n",
       "      <th>Summer</th>\n",
       "      <th>Winter</th>\n",
       "    </tr>\n",
       "  </thead>\n",
       "  <tbody>\n",
       "    <tr>\n",
       "      <th>Total Purchases</th>\n",
       "      <td>25321</td>\n",
       "      <td>26090</td>\n",
       "      <td>25220</td>\n",
       "      <td>26140</td>\n",
       "    </tr>\n",
       "  </tbody>\n",
       "</table>\n",
       "</div>"
      ],
      "text/plain": [
       "Season            Fall  Spring  Summer  Winter\n",
       "Total Purchases  25321   26090   25220   26140"
      ]
     },
     "execution_count": 47,
     "metadata": {},
     "output_type": "execute_result"
    }
   ],
   "source": [
    "# Find number of purchases during each season\n",
    "total_purchases_by_season = df.groupby(\"Season\")[\"Total Purchases\"].sum().to_frame()\n",
    "total_purchases_by_season.transpose()"
   ]
  },
  {
   "cell_type": "markdown",
   "id": "c5385f53",
   "metadata": {},
   "source": [
    "It seems that customers purchase at roughly the same rate across all four seasons. "
   ]
  },
  {
   "cell_type": "markdown",
   "id": "964b5046",
   "metadata": {},
   "source": [
    "### How do men and women differ in their purchases? \n",
    "\n",
    "* Did men or women spend more in total? \n",
    "* Which items do men and women respectively buy most often? \n",
    "* Who tends to leave higher ratings? "
   ]
  },
  {
   "cell_type": "markdown",
   "id": "4bf9d411",
   "metadata": {},
   "source": [
    "#### Did men or women spend more in total? "
   ]
  },
  {
   "cell_type": "code",
   "execution_count": 48,
   "id": "5161a646",
   "metadata": {},
   "outputs": [
    {
     "data": {
      "text/html": [
       "<div>\n",
       "<style scoped>\n",
       "    .dataframe tbody tr th:only-of-type {\n",
       "        vertical-align: middle;\n",
       "    }\n",
       "\n",
       "    .dataframe tbody tr th {\n",
       "        vertical-align: top;\n",
       "    }\n",
       "\n",
       "    .dataframe thead th {\n",
       "        text-align: right;\n",
       "    }\n",
       "</style>\n",
       "<table border=\"1\" class=\"dataframe\">\n",
       "  <thead>\n",
       "    <tr style=\"text-align: right;\">\n",
       "      <th>Gender</th>\n",
       "      <th>Female</th>\n",
       "      <th>Male</th>\n",
       "    </tr>\n",
       "  </thead>\n",
       "  <tbody>\n",
       "    <tr>\n",
       "      <th>Price</th>\n",
       "      <td>75191</td>\n",
       "      <td>157890</td>\n",
       "    </tr>\n",
       "  </tbody>\n",
       "</table>\n",
       "</div>"
      ],
      "text/plain": [
       "Gender  Female    Male\n",
       "Price    75191  157890"
      ]
     },
     "execution_count": 48,
     "metadata": {},
     "output_type": "execute_result"
    }
   ],
   "source": [
    "# Find total amount spent by men and women respectively\n",
    "total_spend_by_gender = df.groupby(\"Gender\")[\"Price\"].sum().to_frame().transpose()\n",
    "total_spend_by_gender"
   ]
  },
  {
   "cell_type": "code",
   "execution_count": 49,
   "id": "d9898aa3",
   "metadata": {},
   "outputs": [
    {
     "data": {
      "text/plain": [
       "2.0998523759492493"
      ]
     },
     "execution_count": 49,
     "metadata": {},
     "output_type": "execute_result"
    }
   ],
   "source": [
    "# Find out by which factor men spent more than women \n",
    "total_spend_by_gender.at[\"Price\", \"Male\"] / total_spend_by_gender.at[\"Price\", \"Female\"]"
   ]
  },
  {
   "cell_type": "markdown",
   "id": "f0b1590b",
   "metadata": {},
   "source": [
    "Interestingly, men spent more than twice as much as women in total over the time period in which this data was collected.This could be for numerous reasons, including but not limited to: this company's marketing strategies targeted at men being more effective than those they targeted at women, men being more responsive to promotions or discounts, or men being more interested in the company's most-stocked items. "
   ]
  },
  {
   "cell_type": "markdown",
   "id": "f71dd2d9",
   "metadata": {},
   "source": [
    "#### Which items do men and women respectively buy most often? "
   ]
  },
  {
   "cell_type": "code",
   "execution_count": 50,
   "id": "83e13098",
   "metadata": {
    "scrolled": false
   },
   "outputs": [
    {
     "data": {
      "text/html": [
       "<div>\n",
       "<style scoped>\n",
       "    .dataframe tbody tr th:only-of-type {\n",
       "        vertical-align: middle;\n",
       "    }\n",
       "\n",
       "    .dataframe tbody tr th {\n",
       "        vertical-align: top;\n",
       "    }\n",
       "\n",
       "    .dataframe thead th {\n",
       "        text-align: right;\n",
       "    }\n",
       "</style>\n",
       "<table border=\"1\" class=\"dataframe\">\n",
       "  <thead>\n",
       "    <tr style=\"text-align: right;\">\n",
       "      <th></th>\n",
       "      <th>Gender</th>\n",
       "      <th>Female</th>\n",
       "      <th>Male</th>\n",
       "    </tr>\n",
       "    <tr>\n",
       "      <th></th>\n",
       "      <th>Item Purchased</th>\n",
       "      <th></th>\n",
       "      <th></th>\n",
       "    </tr>\n",
       "  </thead>\n",
       "  <tbody>\n",
       "    <tr>\n",
       "      <th rowspan=\"25\" valign=\"top\">count</th>\n",
       "      <th>Backpack</th>\n",
       "      <td>37</td>\n",
       "      <td>106</td>\n",
       "    </tr>\n",
       "    <tr>\n",
       "      <th>Belt</th>\n",
       "      <td>55</td>\n",
       "      <td>106</td>\n",
       "    </tr>\n",
       "    <tr>\n",
       "      <th>Blouse</th>\n",
       "      <td>66</td>\n",
       "      <td>105</td>\n",
       "    </tr>\n",
       "    <tr>\n",
       "      <th>Boots</th>\n",
       "      <td>50</td>\n",
       "      <td>94</td>\n",
       "    </tr>\n",
       "    <tr>\n",
       "      <th>Coat</th>\n",
       "      <td>47</td>\n",
       "      <td>114</td>\n",
       "    </tr>\n",
       "    <tr>\n",
       "      <th>Dress</th>\n",
       "      <td>52</td>\n",
       "      <td>114</td>\n",
       "    </tr>\n",
       "    <tr>\n",
       "      <th>Gloves</th>\n",
       "      <td>37</td>\n",
       "      <td>103</td>\n",
       "    </tr>\n",
       "    <tr>\n",
       "      <th>Handbag</th>\n",
       "      <td>58</td>\n",
       "      <td>95</td>\n",
       "    </tr>\n",
       "    <tr>\n",
       "      <th>Hat</th>\n",
       "      <td>52</td>\n",
       "      <td>102</td>\n",
       "    </tr>\n",
       "    <tr>\n",
       "      <th>Hoodie</th>\n",
       "      <td>51</td>\n",
       "      <td>100</td>\n",
       "    </tr>\n",
       "    <tr>\n",
       "      <th>Jacket</th>\n",
       "      <td>54</td>\n",
       "      <td>109</td>\n",
       "    </tr>\n",
       "    <tr>\n",
       "      <th>Jeans</th>\n",
       "      <td>29</td>\n",
       "      <td>95</td>\n",
       "    </tr>\n",
       "    <tr>\n",
       "      <th>Jewelry</th>\n",
       "      <td>52</td>\n",
       "      <td>119</td>\n",
       "    </tr>\n",
       "    <tr>\n",
       "      <th>Pants</th>\n",
       "      <td>48</td>\n",
       "      <td>123</td>\n",
       "    </tr>\n",
       "    <tr>\n",
       "      <th>Sandals</th>\n",
       "      <td>59</td>\n",
       "      <td>101</td>\n",
       "    </tr>\n",
       "    <tr>\n",
       "      <th>Scarf</th>\n",
       "      <td>45</td>\n",
       "      <td>112</td>\n",
       "    </tr>\n",
       "    <tr>\n",
       "      <th>Shirt</th>\n",
       "      <td>59</td>\n",
       "      <td>110</td>\n",
       "    </tr>\n",
       "    <tr>\n",
       "      <th>Shoes</th>\n",
       "      <td>48</td>\n",
       "      <td>102</td>\n",
       "    </tr>\n",
       "    <tr>\n",
       "      <th>Shorts</th>\n",
       "      <td>48</td>\n",
       "      <td>109</td>\n",
       "    </tr>\n",
       "    <tr>\n",
       "      <th>Skirt</th>\n",
       "      <td>49</td>\n",
       "      <td>109</td>\n",
       "    </tr>\n",
       "    <tr>\n",
       "      <th>Sneakers</th>\n",
       "      <td>42</td>\n",
       "      <td>103</td>\n",
       "    </tr>\n",
       "    <tr>\n",
       "      <th>Socks</th>\n",
       "      <td>58</td>\n",
       "      <td>101</td>\n",
       "    </tr>\n",
       "    <tr>\n",
       "      <th>Sunglasses</th>\n",
       "      <td>56</td>\n",
       "      <td>105</td>\n",
       "    </tr>\n",
       "    <tr>\n",
       "      <th>Sweater</th>\n",
       "      <td>50</td>\n",
       "      <td>114</td>\n",
       "    </tr>\n",
       "    <tr>\n",
       "      <th>T-shirt</th>\n",
       "      <td>46</td>\n",
       "      <td>101</td>\n",
       "    </tr>\n",
       "  </tbody>\n",
       "</table>\n",
       "</div>"
      ],
      "text/plain": [
       "Gender                Female  Male\n",
       "      Item Purchased              \n",
       "count Backpack            37   106\n",
       "      Belt                55   106\n",
       "      Blouse              66   105\n",
       "      Boots               50    94\n",
       "      Coat                47   114\n",
       "      Dress               52   114\n",
       "      Gloves              37   103\n",
       "      Handbag             58    95\n",
       "      Hat                 52   102\n",
       "      Hoodie              51   100\n",
       "      Jacket              54   109\n",
       "      Jeans               29    95\n",
       "      Jewelry             52   119\n",
       "      Pants               48   123\n",
       "      Sandals             59   101\n",
       "      Scarf               45   112\n",
       "      Shirt               59   110\n",
       "      Shoes               48   102\n",
       "      Shorts              48   109\n",
       "      Skirt               49   109\n",
       "      Sneakers            42   103\n",
       "      Socks               58   101\n",
       "      Sunglasses          56   105\n",
       "      Sweater             50   114\n",
       "      T-shirt             46   101"
      ]
     },
     "execution_count": 50,
     "metadata": {},
     "output_type": "execute_result"
    }
   ],
   "source": [
    "# Find how often men and women buy certain items\n",
    "items_purchased_by_gender = df.groupby(\"Gender\")[\"Item Purchased\"].value_counts().to_frame()\n",
    "items_purchased_by_gender.unstack().transpose()"
   ]
  },
  {
   "cell_type": "markdown",
   "id": "1b70ff95",
   "metadata": {},
   "source": [
    "Thank you for viewing, and have a nice day! "
   ]
  }
 ],
 "metadata": {
  "kernelspec": {
   "display_name": "Python 3 (ipykernel)",
   "language": "python",
   "name": "python3"
  },
  "language_info": {
   "codemirror_mode": {
    "name": "ipython",
    "version": 3
   },
   "file_extension": ".py",
   "mimetype": "text/x-python",
   "name": "python",
   "nbconvert_exporter": "python",
   "pygments_lexer": "ipython3",
   "version": "3.11.5"
  }
 },
 "nbformat": 4,
 "nbformat_minor": 5
}
